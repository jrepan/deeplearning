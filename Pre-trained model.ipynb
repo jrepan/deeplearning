{
 "cells": [
  {
   "cell_type": "markdown",
   "metadata": {},
   "source": [
    "### Prerequisites\n",
    "You need to have training.json to show were from to download the data. Also, you need to have *ffmpeg*, *git*, *patch* and C build tools installed. This notebook has been tested only with Linux."
   ]
  },
  {
   "cell_type": "code",
   "execution_count": 2,
   "metadata": {
    "collapsed": true
   },
   "outputs": [],
   "source": [
    "from glob import glob\n",
    "import json\n",
    "from subprocess import call\n",
    "import os\n",
    "import shutil\n",
    "from urllib import request\n",
    "import matplotlib.pyplot as plt\n",
    "import numpy as np\n",
    "from scipy import ndimage\n",
    "from scipy.misc import imsave\n",
    "from scipy.ndimage import measurements"
   ]
  },
  {
   "cell_type": "markdown",
   "metadata": {},
   "source": [
    "### Download darknet"
   ]
  },
  {
   "cell_type": "code",
   "execution_count": null,
   "metadata": {},
   "outputs": [],
   "source": [
    "call(['git', 'clone', 'https://github.com/pjreddie/darknet']) # Download darknet\n",
    "os.chdir('darknet')\n",
    "call(['make']) # Compile darknet\n",
    "shutil.copyfile('libdarknet.so', '../libdarknet.so')\n",
    "shutil.copyfile('python/darknet.py', '../darknet.py')\n",
    "shutil.copytree('cfg', '../cfg')\n",
    "shutil.copytree('data', '../data')\n",
    "os.chdir('..')\n",
    "call(['patch', 'darknet.py', 'darknet.patch']) # Patch for Python 3"
   ]
  },
  {
   "cell_type": "markdown",
   "metadata": {},
   "source": [
    "#### Download weights, it will take some time"
   ]
  },
  {
   "cell_type": "code",
   "execution_count": null,
   "metadata": {
    "collapsed": true
   },
   "outputs": [],
   "source": [
    "request.urlretrieve('https://pjreddie.com/media/files/yolo.weights', 'yolo.weights')"
   ]
  },
  {
   "cell_type": "markdown",
   "metadata": {},
   "source": [
    "### Load darknet"
   ]
  },
  {
   "cell_type": "code",
   "execution_count": 3,
   "metadata": {
    "collapsed": true
   },
   "outputs": [],
   "source": [
    "import darknet as dn\n",
    "dn.set_gpu(0)\n",
    "net = dn.load_net(\"cfg/yolo.cfg\".encode('utf-8'), \"yolo.weights\".encode('utf-8'), 0)\n",
    "meta = dn.load_meta(\"cfg/coco.data\".encode('utf-8'))"
   ]
  },
  {
   "cell_type": "markdown",
   "metadata": {},
   "source": [
    "### Download the data\n",
    "It downloads up to *max_samples* frames from up to *matches_todo* videos based on information in *training.json*, that have first frame in at least *min_samples* samples and downscales them by factor of *scale*.\n",
    "\n",
    "<span style=\"color:red\">It's not necessary to run this, just unpack data.7z to get a subset of validation data.</span>"
   ]
  },
  {
   "cell_type": "code",
   "execution_count": 7,
   "metadata": {
    "collapsed": true
   },
   "outputs": [],
   "source": [
    "scale = 1\n",
    "min_samples = 5\n",
    "max_samples = 5\n",
    "matches_todo = 3"
   ]
  },
  {
   "cell_type": "code",
   "execution_count": 8,
   "metadata": {},
   "outputs": [
    {
     "name": "stdout",
     "output_type": "stream",
     "text": [
      "samples limit reached\n",
      "4bde8108eaaba0f8a543cdf669eef8c1 done\n",
      "samples limit reached\n",
      "0ec428510ab0bb3a5a68e3bb1271bf0f done\n",
      "samples limit reached\n",
      "5662eacc3d67a59bd4aef0b4887f4b54 done\n",
      "match limit reached\n",
      "done\n"
     ]
    }
   ],
   "source": [
    "file = open('training.json')\n",
    "data = json.load(file)['samples']\n",
    "matches = {}\n",
    "for i in range(len(data)):\n",
    "\tcur = data[i]['hash']\n",
    "\tif cur in matches:\n",
    "\t\tmatches[cur] += [ i ]\n",
    "\telse:\n",
    "\t\tmatches[cur] = [ i ]\n",
    "\n",
    "matches_done = 0\n",
    "for hash in matches:\n",
    "\tif len(matches[hash]) >= min_samples:\n",
    "\t\tsamples_done = 0\n",
    "\t\ttry:\n",
    "\t\t\tos.mkdir('match_%s' % hash)\n",
    "\t\texcept FileExistsError:\n",
    "\t\t\tpass\n",
    "\t\tfor item in matches[hash]:\n",
    "\t\t\tannotation_url = data[item]['human_annotation']['s3annotation']\n",
    "\t\t\tannotation_file = request.urlopen(annotation_url)\n",
    "\t\t\tannotation_json = json.load(annotation_file)\n",
    "\t\t\ttry:\n",
    "\t\t\t\tball = annotation_json['balls']['0']\n",
    "\t\t\texcept KeyError:\n",
    "\t\t\t\tcontinue\n",
    "\t\t\tout_filename = 'match_%s/out_%d_%d_%d.png' % (hash, item, ball['x'] / scale, ball['y'] / scale)\n",
    "\t\t\tif os.path.isfile(out_filename):\n",
    "\t\t\t\tprint ('%s already exists' % out_filename)\n",
    "\t\t\telse:\n",
    "\t\t\t\tvideo_url = data[item]['s3video']\n",
    "\t\t\t\tcall(['ffmpeg', '-i', video_url, '-vf', 'scale=iw/%d:ih/%d' % (scale, scale), '-vframes', '1', out_filename])\n",
    "\t\t\tsamples_done += 1\n",
    "\t\t\tif samples_done >= max_samples:\n",
    "\t\t\t\tprint ('samples limit reached')\n",
    "\t\t\t\tbreak\n",
    "\t\tprint ('%s done' % hash)\n",
    "\t\tmatches_done += 1\n",
    "\tif matches_done >= matches_todo:\n",
    "\t\tprint ('match limit reached')\n",
    "\t\tbreak\n",
    "print ('done')"
   ]
  },
  {
   "cell_type": "markdown",
   "metadata": {},
   "source": [
    "### Function to run the detection\n",
    "To get the nice images, where found objects are shown, run\n",
    "`darknet/darknet detect cfg/yolo.cfg yolo.weights (image filename)`,\n",
    "which creates predictions.png"
   ]
  },
  {
   "cell_type": "code",
   "execution_count": 26,
   "metadata": {},
   "outputs": [],
   "source": [
    "def detect(filename, use_cut):\n",
    "\tparams = filename.split('.')[0].split('_')\n",
    "\tsamplenr = int(params[2])\n",
    "\tballx = int(params[3])\n",
    "\tbally = int(params[4])\n",
    "\tif use_cut:\n",
    "\t\txa = int(params[5])\n",
    "\t\tya = int(params[6])\n",
    "\t\tisball = int(params[7])\n",
    "\telse:\n",
    "\t\tisball = 1\n",
    "\n",
    "\tr = dn.detect(net, meta, filename.encode('utf-8'))\n",
    "\tbest_prob = 0\n",
    "\tbest_coords = 0\n",
    "\tbest_name = ''\n",
    "\tfor name_bytes, prob, coords in r:\n",
    "\t\tname = name_bytes.decode('utf-8')\n",
    "\t\tprint ('   ', name, round(prob * 100), '%')\n",
    "\t\tif 'ball' in name:\n",
    "\t\t\tif prob > best_prob:\n",
    "\t\t\t\tbest_coords = coords\n",
    "\t\t\t\tbest_name = name\n",
    "\t\t\t\tbest_prob = prob\n",
    "                \n",
    "\tcorrect_yes = 0\n",
    "\tcorrect_no = 0\n",
    "\tfalse_positive = 0\n",
    "\tfalse_negative = 0\n",
    "                        \n",
    "\tif best_prob > 0:\n",
    "\t\tbest_x, best_y, best_w, best_h = best_coords\n",
    "\t\tif use_cut:\n",
    "\t\t\tbest_x += xa\n",
    "\t\t\tbest_y += ya\n",
    "\t\tif isball:\n",
    "\t\t\tcorrect_yes += 1\n",
    "\t\t\tprint (filename, 'found', best_name, '(', round(best_prob * 100), '%)', best_x, best_y, 'expected', ballx, bally)\n",
    "\t\telse:\n",
    "\t\t\tfalse_positive += 1\n",
    "\t\t\tprint (filename, 'found', best_name, '(', round(best_prob * 100), '%)', best_x, best_y, 'expected not to find')\n",
    "\telse:\n",
    "\t\tif isball:\n",
    "\t\t\tfalse_negative += 1\n",
    "\t\t\tprint (filename, 'didn\\'t find, expected', ballx, bally)\n",
    "\t\telse:\n",
    "\t\t\tcorrect_no += 1\n",
    "\t\t\tprint (filename, 'didn\\'t find, as expected')\n",
    "\n",
    "\treturn correct_yes, correct_no, false_positive, false_negative"
   ]
  },
  {
   "cell_type": "markdown",
   "metadata": {},
   "source": [
    "### Run without pre-processing"
   ]
  },
  {
   "cell_type": "code",
   "execution_count": 13,
   "metadata": {},
   "outputs": [
    {
     "name": "stdout",
     "output_type": "stream",
     "text": [
      "    person 59 %\n",
      "match_5662eacc3d67a59bd4aef0b4887f4b54/out_105_1724_431.png didn't find, expected 1724 431\n",
      "    person 63 %\n",
      "match_5662eacc3d67a59bd4aef0b4887f4b54/out_110_1689_594.png didn't find, expected 1689 594\n",
      "    person 64 %\n",
      "match_5662eacc3d67a59bd4aef0b4887f4b54/out_109_1368_379.png didn't find, expected 1368 379\n",
      "match_5662eacc3d67a59bd4aef0b4887f4b54/out_106_995_238.png didn't find, expected 995 238\n",
      "    person 75 %\n",
      "    person 67 %\n",
      "    person 51 %\n",
      "match_5662eacc3d67a59bd4aef0b4887f4b54/out_112_526_538.png didn't find, expected 526 538\n",
      "match_4bde8108eaaba0f8a543cdf669eef8c1/out_2_2049_532.png didn't find, expected 2049 532\n",
      "    person 77 %\n",
      "    person 52 %\n",
      "match_4bde8108eaaba0f8a543cdf669eef8c1/out_9_2496_1081.png didn't find, expected 2496 1081\n",
      "    person 54 %\n",
      "match_4bde8108eaaba0f8a543cdf669eef8c1/out_6_502_950.png didn't find, expected 502 950\n",
      "match_4bde8108eaaba0f8a543cdf669eef8c1/out_4_3485_700.png didn't find, expected 3485 700\n",
      "match_4bde8108eaaba0f8a543cdf669eef8c1/out_7_2139_812.png didn't find, expected 2139 812\n",
      "    person 73 %\n",
      "    person 70 %\n",
      "    person 70 %\n",
      "    person 68 %\n",
      "    person 56 %\n",
      "    person 54 %\n",
      "match_0ec428510ab0bb3a5a68e3bb1271bf0f/out_48_2146_389.png didn't find, expected 2146 389\n",
      "match_0ec428510ab0bb3a5a68e3bb1271bf0f/out_56_2522_335.png didn't find, expected 2522 335\n",
      "    person 69 %\n",
      "    person 62 %\n",
      "    person 61 %\n",
      "    person 61 %\n",
      "    person 58 %\n",
      "    person 54 %\n",
      "match_0ec428510ab0bb3a5a68e3bb1271bf0f/out_49_716_484.png didn't find, expected 716 484\n",
      "    person 76 %\n",
      "    person 70 %\n",
      "    person 59 %\n",
      "    person 54 %\n",
      "match_0ec428510ab0bb3a5a68e3bb1271bf0f/out_54_1820_302.png didn't find, expected 1820 302\n",
      "    person 62 %\n",
      "match_0ec428510ab0bb3a5a68e3bb1271bf0f/out_52_1068_450.png didn't find, expected 1068 450\n"
     ]
    }
   ],
   "source": [
    "for match in glob('match_*'):\n",
    "\tfor filename in glob('%s/out_*.png' % match):\n",
    "\t\tdetect(filename, False)"
   ]
  },
  {
   "cell_type": "markdown",
   "metadata": {},
   "source": [
    "### Pre-processing"
   ]
  },
  {
   "cell_type": "markdown",
   "metadata": {},
   "source": [
    "#### Find median image for each match\n",
    "If this gives MemoryError, use median.cpp instead, which does the same, but uses less memory."
   ]
  },
  {
   "cell_type": "code",
   "execution_count": null,
   "metadata": {},
   "outputs": [],
   "source": [
    "for match in glob('match_*'):\n",
    "\tfilenames = glob('%s/out_*.png' % match)\n",
    "\timage = ndimage.imread(filenames[0])\n",
    "\tNx, Ny, Nz = image.shape\n",
    "\tNimage = min(len(filenames), 5)\n",
    "\tchoices = np.linspace(0, len(filenames) - 1, Nimage, dtype=int)\n",
    "\n",
    "\timages = np.empty([Nimage, Nx, Ny, Nz])\n",
    "\tfor i in range(Nimage):\n",
    "\t\timages[i] = ndimage.imread(filenames[choices[i]])\n",
    "\tout = np.median(images, axis = 0)\n",
    "\n",
    "\timsave('%s/median.png' % match, out)\n",
    "\tprint ('%s done' % match)"
   ]
  },
  {
   "cell_type": "markdown",
   "metadata": {},
   "source": [
    "#### Find difference between frame and the median image"
   ]
  },
  {
   "cell_type": "code",
   "execution_count": 15,
   "metadata": {
    "collapsed": true
   },
   "outputs": [],
   "source": [
    "treshold_factor = 0.2 # as ratio from maximum difference\n",
    "pm = 0 # how much is it allowed to move the median image to find the best match"
   ]
  },
  {
   "cell_type": "code",
   "execution_count": 16,
   "metadata": {},
   "outputs": [
    {
     "name": "stderr",
     "output_type": "stream",
     "text": [
      "/usr/lib/python3.6/site-packages/ipykernel_launcher.py:2: DeprecationWarning: `imread` is deprecated!\n",
      "`imread` is deprecated in SciPy 1.0.0.\n",
      "Use ``matplotlib.pyplot.imread`` instead.\n",
      "  \n",
      "/usr/lib/python3.6/site-packages/ipykernel_launcher.py:4: DeprecationWarning: `imread` is deprecated!\n",
      "`imread` is deprecated in SciPy 1.0.0.\n",
      "Use ``matplotlib.pyplot.imread`` instead.\n",
      "  after removing the cwd from sys.path.\n",
      "/usr/lib/python3.6/site-packages/ipykernel_launcher.py:5: DeprecationWarning: `imread` is deprecated!\n",
      "`imread` is deprecated in SciPy 1.0.0.\n",
      "Use ``matplotlib.pyplot.imread`` instead.\n",
      "  \"\"\"\n",
      "/usr/lib/python3.6/site-packages/ipykernel_launcher.py:18: DeprecationWarning: `imsave` is deprecated!\n",
      "`imsave` is deprecated in SciPy 1.0.0, and will be removed in 1.2.0.\n",
      "Use ``imageio.imwrite`` instead.\n",
      "/usr/lib/python3.6/site-packages/ipykernel_launcher.py:19: DeprecationWarning: `imsave` is deprecated!\n",
      "`imsave` is deprecated in SciPy 1.0.0, and will be removed in 1.2.0.\n",
      "Use ``imageio.imwrite`` instead.\n"
     ]
    },
    {
     "name": "stdout",
     "output_type": "stream",
     "text": [
      "match_5662eacc3d67a59bd4aef0b4887f4b54/match_5662eacc3d67a59bd4aef0b4887f4b54/out_105_1724_431.png done (delta 0, 0)\n",
      "match_5662eacc3d67a59bd4aef0b4887f4b54/match_5662eacc3d67a59bd4aef0b4887f4b54/out_110_1689_594.png done (delta 0, 0)\n",
      "match_5662eacc3d67a59bd4aef0b4887f4b54/match_5662eacc3d67a59bd4aef0b4887f4b54/out_109_1368_379.png done (delta 0, 0)\n",
      "match_5662eacc3d67a59bd4aef0b4887f4b54/match_5662eacc3d67a59bd4aef0b4887f4b54/out_106_995_238.png done (delta 0, 0)\n",
      "match_5662eacc3d67a59bd4aef0b4887f4b54/match_5662eacc3d67a59bd4aef0b4887f4b54/out_112_526_538.png done (delta 0, 0)\n",
      "match_5662eacc3d67a59bd4aef0b4887f4b54 done\n",
      "match_4bde8108eaaba0f8a543cdf669eef8c1/match_4bde8108eaaba0f8a543cdf669eef8c1/out_2_2049_532.png done (delta 0, 0)\n",
      "match_4bde8108eaaba0f8a543cdf669eef8c1/match_4bde8108eaaba0f8a543cdf669eef8c1/out_9_2496_1081.png done (delta 0, 0)\n",
      "match_4bde8108eaaba0f8a543cdf669eef8c1/match_4bde8108eaaba0f8a543cdf669eef8c1/out_6_502_950.png done (delta 0, 0)\n",
      "match_4bde8108eaaba0f8a543cdf669eef8c1/match_4bde8108eaaba0f8a543cdf669eef8c1/out_4_3485_700.png done (delta 0, 0)\n",
      "match_4bde8108eaaba0f8a543cdf669eef8c1/match_4bde8108eaaba0f8a543cdf669eef8c1/out_7_2139_812.png done (delta 0, 0)\n",
      "match_4bde8108eaaba0f8a543cdf669eef8c1 done\n",
      "match_0ec428510ab0bb3a5a68e3bb1271bf0f/match_0ec428510ab0bb3a5a68e3bb1271bf0f/out_48_2146_389.png done (delta 0, 0)\n",
      "match_0ec428510ab0bb3a5a68e3bb1271bf0f/match_0ec428510ab0bb3a5a68e3bb1271bf0f/out_56_2522_335.png done (delta 0, 0)\n",
      "match_0ec428510ab0bb3a5a68e3bb1271bf0f/match_0ec428510ab0bb3a5a68e3bb1271bf0f/out_49_716_484.png done (delta 0, 0)\n",
      "match_0ec428510ab0bb3a5a68e3bb1271bf0f/match_0ec428510ab0bb3a5a68e3bb1271bf0f/out_54_1820_302.png done (delta 0, 0)\n",
      "match_0ec428510ab0bb3a5a68e3bb1271bf0f/match_0ec428510ab0bb3a5a68e3bb1271bf0f/out_52_1068_450.png done (delta 0, 0)\n",
      "match_0ec428510ab0bb3a5a68e3bb1271bf0f done\n"
     ]
    }
   ],
   "source": [
    "for match in glob('match_*'):\n",
    "\tbackground = ndimage.imread('%s/median.png' % match, flatten=True)\n",
    "\tfor filename in glob('%s/out_*.png' % match):\n",
    "\t\timage = ndimage.imread(filename, flatten=False)\n",
    "\t\timage_grey = ndimage.imread(filename, flatten=True)\n",
    "\t\tmin_diff = -1\n",
    "\t\tfor dx in range(-pm, pm + 1):\n",
    "\t\t\tfor dy in range(-pm, pm + 1):\n",
    "\t\t\t\tcur_diff = np.abs(np.roll(image_grey, [dx, dy], [0, 1]) - background)\n",
    "\t\t\t\tx, y = cur_diff.shape\n",
    "\t\t\t\ttotal_diff = np.sum(np.where(cur_diff < np.max(cur_diff) * treshold_factor, 0, 1))\n",
    "\t\t\t\tif min_diff == -1 or total_diff < min_diff:\n",
    "\t\t\t\t\tdiff = cur_diff\n",
    "\t\t\t\t\tmin_diff = total_diff\n",
    "\t\t\t\t\tbest_delta = [dx, dy]\n",
    "\t\timage = np.roll(image, best_delta, [0, 1])\n",
    "\t\timage[diff < np.max(diff) * treshold_factor] = 0\n",
    "\t\timsave(filename.replace('/out_', '/diff_'), diff)\n",
    "\t\timsave(filename.replace('/out_', '/bg_'), image)\n",
    "\t\tprint ('%s/%s done (delta %d, %d)' % (match, filename, best_delta[0], best_delta[1]))\n",
    "\tprint ('%s done' % match)"
   ]
  },
  {
   "cell_type": "markdown",
   "metadata": {},
   "source": [
    "#### Cut out at least 224x224 regions that differ from median image"
   ]
  },
  {
   "cell_type": "code",
   "execution_count": 17,
   "metadata": {
    "collapsed": true
   },
   "outputs": [],
   "source": [
    "min_width = 4\n",
    "min_height = 4\n",
    "min_out_width = 224\n",
    "min_out_height = 224"
   ]
  },
  {
   "cell_type": "code",
   "execution_count": 18,
   "metadata": {},
   "outputs": [
    {
     "name": "stderr",
     "output_type": "stream",
     "text": [
      "/usr/lib/python3.6/site-packages/ipykernel_launcher.py:8: DeprecationWarning: `imread` is deprecated!\n",
      "`imread` is deprecated in SciPy 1.0.0.\n",
      "Use ``matplotlib.pyplot.imread`` instead.\n",
      "  \n",
      "/usr/lib/python3.6/site-packages/ipykernel_launcher.py:9: DeprecationWarning: `imread` is deprecated!\n",
      "`imread` is deprecated in SciPy 1.0.0.\n",
      "Use ``matplotlib.pyplot.imread`` instead.\n",
      "  if __name__ == '__main__':\n",
      "/usr/lib/python3.6/site-packages/ipykernel_launcher.py:37: DeprecationWarning: `imsave` is deprecated!\n",
      "`imsave` is deprecated in SciPy 1.0.0, and will be removed in 1.2.0.\n",
      "Use ``imageio.imwrite`` instead.\n"
     ]
    },
    {
     "name": "stdout",
     "output_type": "stream",
     "text": [
      "match_5662eacc3d67a59bd4aef0b4887f4b54/106 done\n",
      "match_5662eacc3d67a59bd4aef0b4887f4b54/110 done\n",
      "match_5662eacc3d67a59bd4aef0b4887f4b54/109 done\n",
      "match_5662eacc3d67a59bd4aef0b4887f4b54/112 done\n",
      "match_5662eacc3d67a59bd4aef0b4887f4b54/105 done\n",
      "match_5662eacc3d67a59bd4aef0b4887f4b54 done\n",
      "match_4bde8108eaaba0f8a543cdf669eef8c1/9 done\n",
      "match_4bde8108eaaba0f8a543cdf669eef8c1/7 done\n",
      "match_4bde8108eaaba0f8a543cdf669eef8c1/2 done\n",
      "match_4bde8108eaaba0f8a543cdf669eef8c1/6 done\n",
      "match_4bde8108eaaba0f8a543cdf669eef8c1/4 done\n",
      "match_4bde8108eaaba0f8a543cdf669eef8c1 done\n",
      "match_0ec428510ab0bb3a5a68e3bb1271bf0f/49 done\n",
      "match_0ec428510ab0bb3a5a68e3bb1271bf0f/52 done\n",
      "match_0ec428510ab0bb3a5a68e3bb1271bf0f/48 done\n",
      "match_0ec428510ab0bb3a5a68e3bb1271bf0f/56 done\n",
      "match_0ec428510ab0bb3a5a68e3bb1271bf0f/54 done\n",
      "match_0ec428510ab0bb3a5a68e3bb1271bf0f done\n"
     ]
    }
   ],
   "source": [
    "for match in glob('match_*'):\n",
    "\tfor filename in glob('%s/bg_*.png' % match):\n",
    "\t\tparams = filename.split('_')\n",
    "\t\tsamplenr = int(params[2])\n",
    "\t\tballx = int(params[3])\n",
    "\t\tbally = int(params[4].split('.')[0])\n",
    "\n",
    "\t\timage = ndimage.imread(filename.replace('/bg_', '/out_'), flatten=False)\n",
    "\t\timage_grey = ndimage.imread(filename, flatten=True)\n",
    "\t\tnotsaved = np.ones_like(image_grey, dtype=int)\n",
    "\n",
    "\t\tlabels, num_features = measurements.label(image_grey)\n",
    "\t\tfor feature in range(1, num_features + 1):\n",
    "\t\t\tmask = labels == feature\n",
    "\t\t\tif np.sum(notsaved[mask]) > 0:\n",
    "\t\t\t\t# Save only, if there are some pixels not already saved\n",
    "\t\t\t\tindeces = np.argwhere(mask)\n",
    "\t\t\t\txa = np.min(indeces[:, 1])\n",
    "\t\t\t\txb = np.max(indeces[:, 1])\n",
    "\t\t\t\tya = np.min(indeces[:, 0])\n",
    "\t\t\t\tyb = np.max(indeces[:, 0])\n",
    "\t\t\t\torig_width = xb - xa + 1\n",
    "\t\t\t\torig_height = yb - ya + 1\n",
    "\t\t\t\tif orig_width >= min_width and orig_height >= min_height:\n",
    "\t\t\t\t\tout_width = max(min_out_width, orig_width)\n",
    "\t\t\t\t\tout_height = max(min_out_height, orig_height)\n",
    "\t\t\t\t\txa = max(0, xa - (out_width - orig_width) // 2)\n",
    "\t\t\t\t\txb = min(len(image[0]), xa + out_width)\n",
    "\t\t\t\t\txa = xb - out_width\n",
    "\t\t\t\t\tya = max(0, ya - (out_height - orig_height) // 2)\n",
    "\t\t\t\t\tyb = min(len(image), ya + out_height)\n",
    "\t\t\t\t\tya = yb - out_height\n",
    "\n",
    "\t\t\t\t\tcur = image[ya:yb+1, xa:xb+1]\n",
    "\t\t\t\t\tnotsaved[ya:yb+1, xa:xb+1] = 0\n",
    "\t\t\t\t\tisball = xa <= ballx and ballx <= xb and ya <= bally and bally <= yb\n",
    "\t\t\t\t\timsave('%s/cut_%d_%d_%d_%d_%d_%d.png' % (match, samplenr, ballx, bally, xa, ya, isball), cur)\n",
    "\t\tprint ('%s/%d done' % (match, samplenr))\n",
    "\tprint ('%s done' % match)"
   ]
  },
  {
   "cell_type": "markdown",
   "metadata": {},
   "source": [
    "### Run with pre-processing"
   ]
  },
  {
   "cell_type": "code",
   "execution_count": 32,
   "metadata": {},
   "outputs": [
    {
     "name": "stdout",
     "output_type": "stream",
     "text": [
      "match_5662eacc3d67a59bd4aef0b4887f4b54/cut_105_1724_431_1612_317_1.png didn't find, expected 1724 431\n",
      "FRAME match_5662eacc3d67a59bd4aef0b4887f4b54 105: correct yes 0, correct no 0, false positive 0, false negative 1\n",
      "    person 85 %\n",
      "    sports ball 76 %\n",
      "    person 69 %\n",
      "match_5662eacc3d67a59bd4aef0b4887f4b54/cut_110_1689_594_1564_388_1.png found sports ball ( 76 %) 1690.3329467773438 591.7768707275391 expected 1689 594\n",
      "    sports ball 83 %\n",
      "    person 78 %\n",
      "    person 64 %\n",
      "    skateboard 56 %\n",
      "match_5662eacc3d67a59bd4aef0b4887f4b54/cut_110_1689_594_1600_477_1.png found sports ball ( 83 %) 1690.078598022461 593.1318054199219 expected 1689 594\n",
      "FRAME match_5662eacc3d67a59bd4aef0b4887f4b54 110: correct yes 2, correct no 0, false positive 0, false negative 0\n",
      "    person 90 %\n",
      "    sports ball 52 %\n",
      "match_5662eacc3d67a59bd4aef0b4887f4b54/cut_109_1368_379_1148_276_1.png found sports ball ( 52 %) 1367.7813262939453 377.1566619873047 expected 1368 379\n",
      "    person 78 %\n",
      "match_5662eacc3d67a59bd4aef0b4887f4b54/cut_109_1368_379_1298_189_1.png didn't find, expected 1368 379\n",
      "FRAME match_5662eacc3d67a59bd4aef0b4887f4b54 109: correct yes 1, correct no 0, false positive 0, false negative 1\n",
      "match_5662eacc3d67a59bd4aef0b4887f4b54/cut_106_995_238_837_219_1.png didn't find, expected 995 238\n",
      "match_5662eacc3d67a59bd4aef0b4887f4b54/cut_106_995_238_884_126_1.png didn't find, expected 995 238\n",
      "FRAME match_5662eacc3d67a59bd4aef0b4887f4b54 106: correct yes 0, correct no 0, false positive 0, false negative 2\n",
      "    person 84 %\n",
      "    person 67 %\n",
      "match_5662eacc3d67a59bd4aef0b4887f4b54/cut_112_526_538_373_332_1.png didn't find, expected 526 538\n",
      "FRAME match_5662eacc3d67a59bd4aef0b4887f4b54 112: correct yes 0, correct no 0, false positive 0, false negative 1\n",
      "    person 78 %\n",
      "match_4bde8108eaaba0f8a543cdf669eef8c1/cut_2_2049_532_1835_494_1.png didn't find, expected 2049 532\n",
      "    person 74 %\n",
      "    person 68 %\n",
      "match_4bde8108eaaba0f8a543cdf669eef8c1/cut_2_2049_532_1944_373_1.png didn't find, expected 2049 532\n",
      "FRAME match_4bde8108eaaba0f8a543cdf669eef8c1 2: correct yes 0, correct no 0, false positive 0, false negative 2\n",
      "    sports ball 81 %\n",
      "    person 73 %\n",
      "match_4bde8108eaaba0f8a543cdf669eef8c1/cut_9_2496_1081_2424_898_1.png found sports ball ( 81 %) 2494.266128540039 1079.82763671875 expected 2496 1081\n",
      "FRAME match_4bde8108eaaba0f8a543cdf669eef8c1 9: correct yes 1, correct no 0, false positive 0, false negative 0\n",
      "    person 80 %\n",
      "    person 80 %\n",
      "match_4bde8108eaaba0f8a543cdf669eef8c1/cut_6_502_950_448_849_1.png didn't find, expected 502 950\n",
      "    person 81 %\n",
      "    person 78 %\n",
      "match_4bde8108eaaba0f8a543cdf669eef8c1/cut_6_502_950_390_726_1.png didn't find, expected 502 950\n",
      "FRAME match_4bde8108eaaba0f8a543cdf669eef8c1 6: correct yes 0, correct no 0, false positive 0, false negative 2\n",
      "match_4bde8108eaaba0f8a543cdf669eef8c1/cut_4_3485_700_3374_586_1.png didn't find, expected 3485 700\n",
      "FRAME match_4bde8108eaaba0f8a543cdf669eef8c1 4: correct yes 0, correct no 0, false positive 0, false negative 1\n",
      "    person 76 %\n",
      "    sports ball 76 %\n",
      "match_4bde8108eaaba0f8a543cdf669eef8c1/cut_7_2139_812_2071_684_1.png found sports ball ( 76 %) 2137.8018112182617 811.8791046142578 expected 2139 812\n",
      "FRAME match_4bde8108eaaba0f8a543cdf669eef8c1 7: correct yes 1, correct no 0, false positive 0, false negative 0\n",
      "    person 66 %\n",
      "    person 65 %\n",
      "    sports ball 61 %\n",
      "    person 57 %\n",
      "match_0ec428510ab0bb3a5a68e3bb1271bf0f/cut_48_2146_389_2044_236_1.png found sports ball ( 61 %) 2146.622734069824 388.6508331298828 expected 2146 389\n",
      "FRAME match_0ec428510ab0bb3a5a68e3bb1271bf0f 48: correct yes 1, correct no 0, false positive 0, false negative 0\n",
      "    person 80 %\n",
      "    person 80 %\n",
      "    person 71 %\n",
      "    person 70 %\n",
      "match_0ec428510ab0bb3a5a68e3bb1271bf0f/cut_56_2522_335_2423_222_1.png didn't find, expected 2522 335\n",
      "    person 76 %\n",
      "    person 72 %\n",
      "    person 71 %\n",
      "    person 67 %\n",
      "    person 66 %\n",
      "match_0ec428510ab0bb3a5a68e3bb1271bf0f/cut_56_2522_335_2331_137_1.png didn't find, expected 2522 335\n",
      "FRAME match_0ec428510ab0bb3a5a68e3bb1271bf0f 56: correct yes 0, correct no 0, false positive 0, false negative 2\n",
      "    person 82 %\n",
      "    sports ball 76 %\n",
      "match_0ec428510ab0bb3a5a68e3bb1271bf0f/cut_49_716_484_604_370_1.png found sports ball ( 76 %) 715.6047668457031 484.8143997192383 expected 716 484\n",
      "FRAME match_0ec428510ab0bb3a5a68e3bb1271bf0f 49: correct yes 1, correct no 0, false positive 0, false negative 0\n",
      "    person 71 %\n",
      "    person 71 %\n",
      "    person 71 %\n",
      "    person 66 %\n",
      "    person 62 %\n",
      "match_0ec428510ab0bb3a5a68e3bb1271bf0f/cut_54_1820_302_1775_247_1.png didn't find, expected 1820 302\n",
      "    person 61 %\n",
      "match_0ec428510ab0bb3a5a68e3bb1271bf0f/cut_54_1820_302_1711_102_1.png didn't find, expected 1820 302\n",
      "FRAME match_0ec428510ab0bb3a5a68e3bb1271bf0f 54: correct yes 0, correct no 0, false positive 0, false negative 2\n",
      "    person 78 %\n",
      "match_0ec428510ab0bb3a5a68e3bb1271bf0f/cut_52_1068_450_862_445_1.png didn't find, expected 1068 450\n",
      "    person 81 %\n",
      "    person 81 %\n",
      "    person 79 %\n",
      "    sports ball 63 %\n",
      "match_0ec428510ab0bb3a5a68e3bb1271bf0f/cut_52_1068_450_860_328_1.png found sports ball ( 63 %) 1067.1583404541016 451.4101791381836 expected 1068 450\n",
      "    person 80 %\n",
      "    person 79 %\n",
      "    person 63 %\n",
      "match_0ec428510ab0bb3a5a68e3bb1271bf0f/cut_52_1068_450_918_229_1.png didn't find, expected 1068 450\n",
      "    person 81 %\n",
      "    person 67 %\n",
      "    sports ball 66 %\n",
      "match_0ec428510ab0bb3a5a68e3bb1271bf0f/cut_52_1068_450_1006_410_1.png found sports ball ( 66 %) 1066.2382888793945 451.89289474487305 expected 1068 450\n",
      "FRAME match_0ec428510ab0bb3a5a68e3bb1271bf0f 52: correct yes 2, correct no 0, false positive 0, false negative 2\n",
      "SUMMARY: found 7 out of 15\n"
     ]
    }
   ],
   "source": [
    "found = 0\n",
    "total = 0\n",
    "false_positive = 0\n",
    "false_negative = 0\n",
    "for match in glob('match_*'):\n",
    "\tfor frame_file in glob('%s/out_*.png' % match):\n",
    "\t\tframe = frame_file.split('_')[2]\n",
    "\t\tframe_yes = 0\n",
    "\t\tframe_no = 0\n",
    "\t\tframe_fp = 0\n",
    "\t\tframe_fn = 0\n",
    "\t\tfor filename in glob('%s/cut_%s_*_1.png' % (match, frame)):\n",
    "            # _1 means that ball is on the frame\n",
    "\t\t\tcy, cn, fp, fn = detect(filename, True)\n",
    "\t\t\tframe_yes += cy\n",
    "\t\t\tframe_no += cn\n",
    "\t\t\tframe_fp += fp\n",
    "\t\t\tframe_fn += fn\n",
    "\t\tprint ('FRAME %s %s: correct yes %d, correct no %d, false positive %d, false negative %d' % (match, frame, frame_yes, frame_no, frame_fp, frame_fn))\n",
    "\t\tif frame_yes > 0:\n",
    "\t\t\tfound += 1\n",
    "\t\ttotal += 1\n",
    "print ('SUMMARY: found %d out of %d' % (found, total))"
   ]
  },
  {
   "cell_type": "code",
   "execution_count": null,
   "metadata": {
    "collapsed": true
   },
   "outputs": [],
   "source": []
  }
 ],
 "metadata": {
  "kernelspec": {
   "display_name": "Python 3",
   "language": "python",
   "name": "python3"
  },
  "language_info": {
   "codemirror_mode": {
    "name": "ipython",
    "version": 3
   },
   "file_extension": ".py",
   "mimetype": "text/x-python",
   "name": "python",
   "nbconvert_exporter": "python",
   "pygments_lexer": "ipython3",
   "version": "3.6.3"
  }
 },
 "nbformat": 4,
 "nbformat_minor": 2
}
